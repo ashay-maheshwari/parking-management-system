{
  "nbformat": 4,
  "nbformat_minor": 0,
  "metadata": {
    "colab": {
      "name": "parking-management-system",
      "provenance": [],
      "authorship_tag": "ABX9TyPcNffL71j5BWQrBsolBiSA",
      "include_colab_link": true
    },
    "kernelspec": {
      "name": "python3",
      "display_name": "Python 3"
    },
    "language_info": {
      "name": "python"
    }
  },
  "cells": [
    {
      "cell_type": "markdown",
      "metadata": {
        "id": "view-in-github",
        "colab_type": "text"
      },
      "source": [
        "<a href=\"https://colab.research.google.com/github/ashay-maheshwari/parking-management-system/blob/main/parking_management_system.ipynb\" target=\"_parent\"><img src=\"https://colab.research.google.com/assets/colab-badge.svg\" alt=\"Open In Colab\"/></a>"
      ]
    },
    {
      "cell_type": "code",
      "metadata": {
        "colab": {
          "base_uri": "https://localhost:8080/"
        },
        "id": "218PCdFY1R2N",
        "outputId": "27f08487-8ca3-4a36-a3f0-cfbe7f518598"
      },
      "source": [
        "#Generate car slots with 5 floors and each floor having 20 slots \n",
        "#Floor counter\n",
        "i = 1\n",
        "floors = 5\n",
        "slots = 20\n",
        "#slot counter \n",
        "\n",
        "vacant_car_slots = {}\n",
        "while i <= floors:\n",
        "    j = 1\n",
        "    floor = \"F\" + str(i)\n",
        "    slot_list = []\n",
        "    while j <= slots:\n",
        "      car_slot = \"c\" + str(j)    \n",
        "      slot_list.append(car_slot)\n",
        "      j = j + 1\n",
        "    vacant_car_slots[floor] = slot_list\n",
        "    i = i + 1\n",
        "\n",
        "print(vacant_car_slots)"
      ],
      "execution_count": 12,
      "outputs": [
        {
          "output_type": "stream",
          "text": [
            "{'F1': ['c1', 'c2', 'c3', 'c4', 'c5', 'c6', 'c7', 'c8', 'c9', 'c10', 'c11', 'c12', 'c13', 'c14', 'c15', 'c16', 'c17', 'c18', 'c19', 'c20'], 'F2': ['c1', 'c2', 'c3', 'c4', 'c5', 'c6', 'c7', 'c8', 'c9', 'c10', 'c11', 'c12', 'c13', 'c14', 'c15', 'c16', 'c17', 'c18', 'c19', 'c20'], 'F3': ['c1', 'c2', 'c3', 'c4', 'c5', 'c6', 'c7', 'c8', 'c9', 'c10', 'c11', 'c12', 'c13', 'c14', 'c15', 'c16', 'c17', 'c18', 'c19', 'c20'], 'F4': ['c1', 'c2', 'c3', 'c4', 'c5', 'c6', 'c7', 'c8', 'c9', 'c10', 'c11', 'c12', 'c13', 'c14', 'c15', 'c16', 'c17', 'c18', 'c19', 'c20'], 'F5': ['c1', 'c2', 'c3', 'c4', 'c5', 'c6', 'c7', 'c8', 'c9', 'c10', 'c11', 'c12', 'c13', 'c14', 'c15', 'c16', 'c17', 'c18', 'c19', 'c20']}\n"
          ],
          "name": "stdout"
        }
      ]
    },
    {
      "cell_type": "code",
      "metadata": {
        "colab": {
          "base_uri": "https://localhost:8080/"
        },
        "id": "7ueQNdyK27bT",
        "outputId": "ac99b53f-8862-410c-9025-88a904f2c2e1"
      },
      "source": [
        "#Generate bike slots with 5 floors and each floor having 20 slots \n",
        "#Floor counter\n",
        "i = 1\n",
        "floors = 5\n",
        "slots = 20\n",
        "#slot counter \n",
        "\n",
        "vacant_bike_slots = {}\n",
        "while i <= floors:\n",
        "    j = 1\n",
        "    floor = \"F\" + str(i)    \n",
        "    slot_list = []   \n",
        "    while j <= slots:\n",
        "      bike_slot = \"b\" + str(j)    \n",
        "      slot_list.append(car_slot)\n",
        "      j = j + 1\n",
        "    vacant_bike_slots[floor] = slot_list\n",
        "    i = i + 1\n",
        "\n",
        "print(vacant_car_slots)"
      ],
      "execution_count": 13,
      "outputs": [
        {
          "output_type": "stream",
          "text": [
            "{'F1': ['c1', 'c2', 'c3', 'c4', 'c5', 'c6', 'c7', 'c8', 'c9', 'c10', 'c11', 'c12', 'c13', 'c14', 'c15', 'c16', 'c17', 'c18', 'c19', 'c20'], 'F2': ['c1', 'c2', 'c3', 'c4', 'c5', 'c6', 'c7', 'c8', 'c9', 'c10', 'c11', 'c12', 'c13', 'c14', 'c15', 'c16', 'c17', 'c18', 'c19', 'c20'], 'F3': ['c1', 'c2', 'c3', 'c4', 'c5', 'c6', 'c7', 'c8', 'c9', 'c10', 'c11', 'c12', 'c13', 'c14', 'c15', 'c16', 'c17', 'c18', 'c19', 'c20'], 'F4': ['c1', 'c2', 'c3', 'c4', 'c5', 'c6', 'c7', 'c8', 'c9', 'c10', 'c11', 'c12', 'c13', 'c14', 'c15', 'c16', 'c17', 'c18', 'c19', 'c20'], 'F5': ['c1', 'c2', 'c3', 'c4', 'c5', 'c6', 'c7', 'c8', 'c9', 'c10', 'c11', 'c12', 'c13', 'c14', 'c15', 'c16', 'c17', 'c18', 'c19', 'c20']}\n"
          ],
          "name": "stdout"
        }
      ]
    },
    {
      "cell_type": "code",
      "metadata": {
        "colab": {
          "base_uri": "https://localhost:8080/"
        },
        "id": "ehe3rpY001hW",
        "outputId": "a406c7e6-16c6-43cb-d7bd-24f11ed50aad"
      },
      "source": [
        "def check_vacant_slot(vehicle_type, floor_address, slot_address):\n",
        "    \n",
        "    \"\"\"\n",
        "    Function takes following inputs -\n",
        "    vehicle_type  = car, bike \n",
        "    floor_address = Floor Key, Example - \"F1\", or \"F3\"\n",
        "    slot_address = Example = \"s1\", \"s10\" \n",
        "\n",
        "    It will check the requested vacancy in the vacant car slot dictionary and \n",
        "    return True if slot is vacant else return False\n",
        "    \"\"\"\n",
        "    #set parking space variable\n",
        "    parking_space_available = False\n",
        "    #Check if floor exists \n",
        "    floor_exists = vacant_car_slots.get(floor_address, \"FALSE\")\n",
        "    if floor_exists != \"FALSE\":\n",
        "        if slot_address in floor_exists:\n",
        "            parking_space_available = True\n",
        "        else:\n",
        "            parking_space_available = False\n",
        "    else:\n",
        "        parking_space_available = False\n",
        "    return parking_space_available\n",
        "        \n",
        "\n",
        "check_parking = check_vacant_slot(\"car\", \"F1\", \"c10\")\n",
        "print(check_parking)\n",
        "\n",
        "check_parking = check_vacant_slot(\"bike\", \"F2\", \"b12\")\n",
        "print(check_parking)\n"
      ],
      "execution_count": 16,
      "outputs": [
        {
          "output_type": "stream",
          "text": [
            "True\n",
            "False\n"
          ],
          "name": "stdout"
        }
      ]
    }
  ]
}