{
  "nbformat": 4,
  "nbformat_minor": 0,
  "metadata": {
    "colab": {
      "name": "parking-management-system",
      "provenance": [],
      "collapsed_sections": [],
      "authorship_tag": "ABX9TyN/y1ZJVtiO6GJPdsq5VfPK",
      "include_colab_link": true
    },
    "kernelspec": {
      "name": "python3",
      "display_name": "Python 3"
    },
    "language_info": {
      "name": "python"
    }
  },
  "cells": [
    {
      "cell_type": "markdown",
      "metadata": {
        "id": "view-in-github",
        "colab_type": "text"
      },
      "source": [
        "<a href=\"https://colab.research.google.com/github/ashay-maheshwari/parking-management-system/blob/main/parking_management_system.ipynb\" target=\"_parent\"><img src=\"https://colab.research.google.com/assets/colab-badge.svg\" alt=\"Open In Colab\"/></a>"
      ]
    },
    {
      "cell_type": "markdown",
      "metadata": {
        "id": "xBazd-TK4Yfw"
      },
      "source": [
        "#Check if a parking space at specific floor and slot is available \n",
        "This module will allow user to check if a specific floor and a slot is available for car or bike. Following are the input and output paramters \n",
        "\n",
        "\n",
        "##Inputs \n",
        "- floor_address = \"F1\", \"F2\", etc. \n",
        "- Slot address = \"b1\", \"c5\", etc.\n",
        "\n",
        "##Output paramters \n",
        "- True - if floor and slot both exists in the dictionary \n",
        "- False - if either of them is not existing in the dictionary \n",
        "\n"
      ]
    },
    {
      "cell_type": "code",
      "metadata": {
        "colab": {
          "base_uri": "https://localhost:8080/"
        },
        "id": "218PCdFY1R2N",
        "outputId": "a3a9c542-6c43-45ab-a3dc-6e12b1395083"
      },
      "source": [
        "#Generate car slots with 5 floors and each floor having 20 slots \n",
        "#Floor counter\n",
        "i = 1\n",
        "floors = 5\n",
        "slots = 2\n",
        "#slot counter \n",
        "\n",
        "vacant_car_slots = {}\n",
        "while i <= floors:\n",
        "    j = 1\n",
        "    floor = \"F\" + str(i)\n",
        "    slot_list = []\n",
        "    while j <= slots:\n",
        "      car_slot = \"c\" + str(j)    \n",
        "      slot_list.append(car_slot)\n",
        "      j = j + 1\n",
        "    vacant_car_slots[floor] = slot_list\n",
        "    i = i + 1\n",
        "\n",
        "print(vacant_car_slots)"
      ],
      "execution_count": 42,
      "outputs": [
        {
          "output_type": "stream",
          "text": [
            "{'F1': ['c1', 'c2'], 'F2': ['c1', 'c2'], 'F3': ['c1', 'c2'], 'F4': ['c1', 'c2'], 'F5': ['c1', 'c2']}\n"
          ],
          "name": "stdout"
        }
      ]
    },
    {
      "cell_type": "code",
      "metadata": {
        "colab": {
          "base_uri": "https://localhost:8080/"
        },
        "id": "7ueQNdyK27bT",
        "outputId": "d92647e5-ebc9-4ac2-dea1-8b2900196d1f"
      },
      "source": [
        "#Generate bike slots with 5 floors and each floor having 20 slots \n",
        "#Floor counter\n",
        "i = 1\n",
        "floors = 5\n",
        "slots = 2\n",
        "#slot counter \n",
        "\n",
        "vacant_bike_slots = {}\n",
        "while i <= floors:\n",
        "    j = 1\n",
        "    floor = \"F\" + str(i)    \n",
        "    slot_list = []   \n",
        "    while j <= slots:\n",
        "      bike_slot = \"b\" + str(j)    \n",
        "      slot_list.append(car_slot)\n",
        "      j = j + 1\n",
        "    vacant_bike_slots[floor] = slot_list\n",
        "    i = i + 1\n",
        "\n",
        "print(vacant_car_slots)"
      ],
      "execution_count": 43,
      "outputs": [
        {
          "output_type": "stream",
          "text": [
            "{'F1': ['c1', 'c2'], 'F2': ['c1', 'c2'], 'F3': ['c1', 'c2'], 'F4': ['c1', 'c2'], 'F5': ['c1', 'c2']}\n"
          ],
          "name": "stdout"
        }
      ]
    },
    {
      "cell_type": "code",
      "metadata": {
        "colab": {
          "base_uri": "https://localhost:8080/"
        },
        "id": "ehe3rpY001hW",
        "outputId": "676bee7a-2184-45f3-d949-6c04c62f0bca"
      },
      "source": [
        "def check_vacant_slot(vehicle_type, floor_address, slot_address):\n",
        "    \n",
        "    \"\"\"\n",
        "    Function takes following inputs -\n",
        "    vehicle_type  = car, bike \n",
        "    floor_address = Floor Key, Example - \"F1\", or \"F3\"\n",
        "    slot_address = Example = \"s1\", \"s10\" \n",
        "\n",
        "    It will check the requested vacancy in the vacant car slot dictionary and \n",
        "    return True if slot is vacant else return False\n",
        "    \"\"\"\n",
        "    #set parking space variable\n",
        "    parking_space_available = False\n",
        "    #Check if floor exists \n",
        "    floor_exists = vacant_car_slots.get(floor_address, \"FALSE\")\n",
        "    if floor_exists != \"FALSE\":\n",
        "        if slot_address in floor_exists:\n",
        "            parking_space_available = True\n",
        "        else:\n",
        "            parking_space_available = False\n",
        "    else:\n",
        "        parking_space_available = False\n",
        "    return parking_space_available\n",
        "        \n",
        "\n",
        "check_parking = check_vacant_slot(\"car\", \"F1\", \"c10\")\n",
        "print(check_parking)\n",
        "\n",
        "check_parking = check_vacant_slot(\"bike\", \"F2\", \"b12\")\n",
        "print(check_parking)\n"
      ],
      "execution_count": 44,
      "outputs": [
        {
          "output_type": "stream",
          "text": [
            "False\n",
            "False\n"
          ],
          "name": "stdout"
        }
      ]
    },
    {
      "cell_type": "markdown",
      "metadata": {
        "id": "eLeYV5gc45sL"
      },
      "source": [
        "#Allocate a parking slot for a vechile "
      ]
    },
    {
      "cell_type": "code",
      "metadata": {
        "colab": {
          "base_uri": "https://localhost:8080/"
        },
        "id": "1mXEvDcp5CGW",
        "outputId": "8600069d-ea06-48f1-aeea-a28a132cfc9d"
      },
      "source": [
        "#print(type(vacant_car_slots))\n",
        "def allocate_parking(vehicle_type):\n",
        "  \"\"\"\n",
        "  Checks if a parking space is available for a car or a bike \n",
        "  input paramter = vehicle type = {car or bike}\n",
        "  output paramter = returns the address (floor and slot) if available else returns \"No parking available\"\n",
        "  \"\"\"\n",
        "  if vehicle_type == \"car\":\n",
        "    for slot in vacant_car_slots:\n",
        "      slot_list = vacant_car_slots.get(slot)\n",
        "      if len(slot_list) == 0:\n",
        "        print(\"Check next floor\")\n",
        "      else:\n",
        "        slot_list.pop()\n",
        "        vacant_car_slots[slot] = slot_list\n",
        "        return \"Space allocated for your car\"\n",
        "\n",
        "  if vehicle_type == \"bike\":\n",
        "    for slot in vacant_bike_slots:\n",
        "      slot_list = vacant_bike_slots.get(slot)\n",
        "      if len(slot_list) == 0:\n",
        "        print(\"Check next floor\")\n",
        "      else:\n",
        "        slot_list.pop()\n",
        "        vacant_bike_slots[slot] = slot_list\n",
        "        return \"Space allocated for your bike\"\n",
        "\n",
        "  \n",
        "print(allocate_parking(\"car\"))\n",
        "print(allocate_parking(\"bike\"))\n"
      ],
      "execution_count": 53,
      "outputs": [
        {
          "output_type": "stream",
          "text": [
            "Check next floor\n",
            "Space allocated for your car\n",
            "Check next floor\n",
            "Space allocated for your bike\n"
          ],
          "name": "stdout"
        }
      ]
    }
  ]
}