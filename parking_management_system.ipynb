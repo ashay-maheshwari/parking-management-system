{
  "nbformat": 4,
  "nbformat_minor": 0,
  "metadata": {
    "colab": {
      "name": "parking-management-system",
      "provenance": [],
      "collapsed_sections": [],
      "include_colab_link": true
    },
    "kernelspec": {
      "name": "python3",
      "display_name": "Python 3"
    },
    "language_info": {
      "name": "python"
    }
  },
  "cells": [
    {
      "cell_type": "markdown",
      "metadata": {
        "id": "view-in-github",
        "colab_type": "text"
      },
      "source": [
        "<a href=\"https://colab.research.google.com/github/ashay-maheshwari/parking-management-system/blob/main/parking_management_system.ipynb\" target=\"_parent\"><img src=\"https://colab.research.google.com/assets/colab-badge.svg\" alt=\"Open In Colab\"/></a>"
      ]
    },
    {
      "cell_type": "markdown",
      "metadata": {
        "id": "xBazd-TK4Yfw"
      },
      "source": [
        "#Check if a parking space at specific floor and slot is available \n",
        "This module will allow user to check if a specific floor and a slot is available for car or bike. Following are the input and output paramters \n",
        "\n",
        "\n",
        "##Inputs \n",
        "- floor_address = \"F1\", \"F2\", etc. \n",
        "- Slot address = \"b1\", \"c5\", etc.\n",
        "\n",
        "##Output paramters \n",
        "- True - if floor and slot both exists in the dictionary \n",
        "- False - if either of them is not existing in the dictionary \n",
        "\n"
      ]
    },
    {
      "cell_type": "code",
      "metadata": {
        "colab": {
          "base_uri": "https://localhost:8080/"
        },
        "id": "218PCdFY1R2N",
        "outputId": "77bc71b9-2982-40a3-ff31-1bf91493c9e1"
      },
      "source": [
        "#Generate car slots with 5 floors and each floor having 20 slots \n",
        "#Floor counter\n",
        "i = 1\n",
        "floors = 5\n",
        "slots = 20\n",
        "#slot counter \n",
        "\n",
        "vacant_car_slots = {}\n",
        "while i <= floors:\n",
        "    j = 1\n",
        "    floor = \"F\" + str(i)\n",
        "    slot_list = []\n",
        "    while j <= slots:\n",
        "      car_slot = \"c\" + str(j)    \n",
        "      slot_list.append(car_slot)\n",
        "      j = j + 1\n",
        "    vacant_car_slots[floor] = slot_list\n",
        "    i = i + 1\n",
        "\n",
        "print(vacant_car_slots)"
      ],
      "execution_count": null,
      "outputs": [
        {
          "output_type": "stream",
          "name": "stdout",
          "text": [
            "{'F1': ['c1', 'c2', 'c3', 'c4', 'c5', 'c6', 'c7', 'c8', 'c9', 'c10', 'c11', 'c12', 'c13', 'c14', 'c15', 'c16', 'c17', 'c18', 'c19', 'c20'], 'F2': ['c1', 'c2', 'c3', 'c4', 'c5', 'c6', 'c7', 'c8', 'c9', 'c10', 'c11', 'c12', 'c13', 'c14', 'c15', 'c16', 'c17', 'c18', 'c19', 'c20'], 'F3': ['c1', 'c2', 'c3', 'c4', 'c5', 'c6', 'c7', 'c8', 'c9', 'c10', 'c11', 'c12', 'c13', 'c14', 'c15', 'c16', 'c17', 'c18', 'c19', 'c20'], 'F4': ['c1', 'c2', 'c3', 'c4', 'c5', 'c6', 'c7', 'c8', 'c9', 'c10', 'c11', 'c12', 'c13', 'c14', 'c15', 'c16', 'c17', 'c18', 'c19', 'c20'], 'F5': ['c1', 'c2', 'c3', 'c4', 'c5', 'c6', 'c7', 'c8', 'c9', 'c10', 'c11', 'c12', 'c13', 'c14', 'c15', 'c16', 'c17', 'c18', 'c19', 'c20']}\n"
          ]
        }
      ]
    },
    {
      "cell_type": "code",
      "metadata": {
        "colab": {
          "base_uri": "https://localhost:8080/"
        },
        "id": "7ueQNdyK27bT",
        "outputId": "20fca336-ed1f-4f66-df99-c090476c0046"
      },
      "source": [
        "#Generate bike slots with 5 floors and each floor having 20 slots \n",
        "#Floor counter\n",
        "i = 1\n",
        "floors = 5\n",
        "slots = 20\n",
        "#slot counter \n",
        "\n",
        "vacant_bike_slots = {}\n",
        "while i <= floors:\n",
        "    j = 1\n",
        "    floor = \"F\" + str(i)    \n",
        "    slot_list = []   \n",
        "    while j <= slots:\n",
        "      bike_slot = \"b\" + str(j)    \n",
        "      slot_list.append(bike_slot)\n",
        "      j = j + 1\n",
        "    vacant_bike_slots[floor] = slot_list\n",
        "    i = i + 1\n",
        "\n",
        "print(vacant_bike_slots)"
      ],
      "execution_count": null,
      "outputs": [
        {
          "output_type": "stream",
          "name": "stdout",
          "text": [
            "{'F1': ['b1', 'b2', 'b3', 'b4', 'b5', 'b6', 'b7', 'b8', 'b9', 'b10', 'b11', 'b12', 'b13', 'b14', 'b15', 'b16', 'b17', 'b18', 'b19', 'b20'], 'F2': ['b1', 'b2', 'b3', 'b4', 'b5', 'b6', 'b7', 'b8', 'b9', 'b10', 'b11', 'b12', 'b13', 'b14', 'b15', 'b16', 'b17', 'b18', 'b19', 'b20'], 'F3': ['b1', 'b2', 'b3', 'b4', 'b5', 'b6', 'b7', 'b8', 'b9', 'b10', 'b11', 'b12', 'b13', 'b14', 'b15', 'b16', 'b17', 'b18', 'b19', 'b20'], 'F4': ['b1', 'b2', 'b3', 'b4', 'b5', 'b6', 'b7', 'b8', 'b9', 'b10', 'b11', 'b12', 'b13', 'b14', 'b15', 'b16', 'b17', 'b18', 'b19', 'b20'], 'F5': ['b1', 'b2', 'b3', 'b4', 'b5', 'b6', 'b7', 'b8', 'b9', 'b10', 'b11', 'b12', 'b13', 'b14', 'b15', 'b16', 'b17', 'b18', 'b19', 'b20']}\n"
          ]
        }
      ]
    },
    {
      "cell_type": "code",
      "metadata": {
        "colab": {
          "base_uri": "https://localhost:8080/"
        },
        "id": "ehe3rpY001hW",
        "outputId": "381e3555-35d8-4d6a-99f5-399cd7b2d7ac"
      },
      "source": [
        "def check_vacant_slot(vehicle_type, floor_address, slot_address):\n",
        "    \n",
        "    \"\"\"\n",
        "    Function takes following inputs -\n",
        "    vehicle_type  = car, bike \n",
        "    floor_address = Floor Key, Example - \"F1\", or \"F3\"\n",
        "    slot_address = Example = \"s1\", \"s10\" \n",
        "\n",
        "    It will check the requested vacancy in the vacant car slot dictionary and \n",
        "    return True if slot is vacant else return False\n",
        "    \"\"\"\n",
        "    #set parking space variable\n",
        "    parking_space_available = False\n",
        "    #Check if floor exists \n",
        "    floor_exists = vacant_car_slots.get(floor_address, \"FALSE\")\n",
        "    if floor_exists != \"FALSE\":\n",
        "        if slot_address in floor_exists:\n",
        "            parking_space_available = True\n",
        "        else:\n",
        "            parking_space_available = False\n",
        "    else:\n",
        "        parking_space_available = False\n",
        "    return parking_space_available\n",
        "        \n",
        "\n",
        "check_parking = check_vacant_slot(\"car\", \"F1\", \"c10\")\n",
        "print(check_parking)\n",
        "\n",
        "check_parking = check_vacant_slot(\"bike\", \"F2\", \"b12\")\n",
        "print(check_parking)\n"
      ],
      "execution_count": null,
      "outputs": [
        {
          "output_type": "stream",
          "name": "stdout",
          "text": [
            "True\n",
            "False\n"
          ]
        }
      ]
    },
    {
      "cell_type": "markdown",
      "metadata": {
        "id": "eLeYV5gc45sL"
      },
      "source": [
        "#Allocate a parking slot for a vechile "
      ]
    },
    {
      "cell_type": "code",
      "metadata": {
        "colab": {
          "base_uri": "https://localhost:8080/"
        },
        "id": "1mXEvDcp5CGW",
        "outputId": "032e3281-a5fc-487e-94c8-31901011d9a1"
      },
      "source": [
        "#print(type(vacant_car_slots))\n",
        "def allocate_parking(vehicle_type):\n",
        "  \"\"\"\n",
        "  Checks if a parking space is available for a car or a bike \n",
        "  input paramter = vehicle type = {car or bike}\n",
        "  output paramter = returns the address (floor and slot) if available else returns \"No parking available\"\n",
        "  \"\"\"\n",
        "  if vehicle_type == \"car\":\n",
        "    for slot in vacant_car_slots:\n",
        "      slot_list = vacant_car_slots.get(slot)\n",
        "      if len(slot_list) == 0:\n",
        "        print(\"Check next floor\")\n",
        "      else:\n",
        "        slot_list.pop()\n",
        "        vacant_car_slots[slot] = slot_list\n",
        "        return \"Space allocated for your car\"\n",
        "\n",
        "  if vehicle_type == \"bike\":\n",
        "    for slot in vacant_bike_slots:\n",
        "      slot_list = vacant_bike_slots.get(slot)\n",
        "      if len(slot_list) == 0:\n",
        "        print(\"Check next floor\")\n",
        "      else:\n",
        "        slot_list.pop()\n",
        "        vacant_bike_slots[slot] = slot_list\n",
        "        return \"Space allocated for your bike\"\n",
        "\n",
        "  \n",
        "print(allocate_parking(\"car\"))\n",
        "print(allocate_parking(\"bike\"))\n"
      ],
      "execution_count": null,
      "outputs": [
        {
          "output_type": "stream",
          "name": "stdout",
          "text": [
            "Space allocated for your car\n",
            "Space allocated for your bike\n"
          ]
        }
      ]
    },
    {
      "cell_type": "code",
      "metadata": {
        "id": "96eV3D3YBdT-",
        "colab": {
          "base_uri": "https://localhost:8080/"
        },
        "outputId": "5e2e4dbf-d5d9-44ab-9ce0-5faee5104e3c"
      },
      "source": [
        "print(vacant_car_slots)"
      ],
      "execution_count": null,
      "outputs": [
        {
          "output_type": "stream",
          "name": "stdout",
          "text": [
            "{'F1': ['c1', 'c2', 'c3', 'c4', 'c5', 'c6', 'c7', 'c8', 'c9', 'c10', 'c11', 'c12', 'c13', 'c14', 'c15', 'c16', 'c17', 'c18', 'c19'], 'F2': ['c1', 'c2', 'c3', 'c4', 'c5', 'c6', 'c7', 'c8', 'c9', 'c10', 'c11', 'c12', 'c13', 'c14', 'c15', 'c16', 'c17', 'c18', 'c19', 'c20'], 'F3': ['c1', 'c2', 'c3', 'c4', 'c5', 'c6', 'c7', 'c8', 'c9', 'c10', 'c11', 'c12', 'c13', 'c14', 'c15', 'c16', 'c17', 'c18', 'c19', 'c20'], 'F4': ['c1', 'c2', 'c3', 'c4', 'c5', 'c6', 'c7', 'c8', 'c9', 'c10', 'c11', 'c12', 'c13', 'c14', 'c15', 'c16', 'c17', 'c18', 'c19', 'c20'], 'F5': ['c1', 'c2', 'c3', 'c4', 'c5', 'c6', 'c7', 'c8', 'c9', 'c10', 'c11', 'c12', 'c13', 'c14', 'c15', 'c16', 'c17', 'c18', 'c19', 'c20']}\n"
          ]
        }
      ]
    },
    {
      "cell_type": "code",
      "metadata": {
        "id": "Xs7cU12FBjGu",
        "colab": {
          "base_uri": "https://localhost:8080/"
        },
        "outputId": "97ae95bb-494b-4e56-af30-891f5984ec66"
      },
      "source": [
        "print(vacant_bike_slots)"
      ],
      "execution_count": null,
      "outputs": [
        {
          "output_type": "stream",
          "name": "stdout",
          "text": [
            "{'F1': ['b1', 'b2', 'b3', 'b4', 'b5', 'b6', 'b7', 'b8', 'b9', 'b10', 'b11', 'b12', 'b13', 'b14', 'b15', 'b16', 'b17', 'b18', 'b19'], 'F2': ['b1', 'b2', 'b3', 'b4', 'b5', 'b6', 'b7', 'b8', 'b9', 'b10', 'b11', 'b12', 'b13', 'b14', 'b15', 'b16', 'b17', 'b18', 'b19', 'b20'], 'F3': ['b1', 'b2', 'b3', 'b4', 'b5', 'b6', 'b7', 'b8', 'b9', 'b10', 'b11', 'b12', 'b13', 'b14', 'b15', 'b16', 'b17', 'b18', 'b19', 'b20'], 'F4': ['b1', 'b2', 'b3', 'b4', 'b5', 'b6', 'b7', 'b8', 'b9', 'b10', 'b11', 'b12', 'b13', 'b14', 'b15', 'b16', 'b17', 'b18', 'b19', 'b20'], 'F5': ['b1', 'b2', 'b3', 'b4', 'b5', 'b6', 'b7', 'b8', 'b9', 'b10', 'b11', 'b12', 'b13', 'b14', 'b15', 'b16', 'b17', 'b18', 'b19', 'b20']}\n"
          ]
        }
      ]
    },
    {
      "cell_type": "code",
      "metadata": {
        "id": "DPFwwYpvCyem"
      },
      "source": [
        "motorcycle spots = 1 = bike \n",
        "compact spots = 1, bike, car\n",
        "large spots = bike, car, (bus) 4\n",
        "\n",
        "#Master Data\n",
        "slots = {\n",
        "    \n",
        "  \n",
        "    \"F1\" : {\n",
        "        \"Motorcycle\": ['m1', 'b2', 'b3', 'b4', 'b5', 'b6', 'b7', 'b8', 'b9', 'b10', 'b11', 'b12', 'b13', 'b14', , 'b16', 'b17', 'b18', 'b19'], \n",
        "        \"Compact\" :['c3', 'b4', 'b5', 'b6', 'b7', 'b8', 'b9'],\n",
        "        \"Large\" : ['L10', 'b11', 'b12', 'b13', 'b14', 'b15', 'b16', 'b17', 'b18', 'b19']\n",
        "    }, \n",
        "    \"\"\n",
        "}\n",
        "\n",
        "\n",
        "{\n",
        "    \"Parking: {\n",
        "      \"bike no\"/car no\n",
        " entry date and time \n",
        " billing \n",
        " slot: \"b15\"\n",
        "    }\n",
        "}"
      ],
      "execution_count": null,
      "outputs": []
    },
    {
      "cell_type": "code",
      "metadata": {
        "id": "P76KGm3KDz__"
      },
      "source": [
        "parking_slots = {\n",
        "\"Level-0\": {\n",
        "    \"Motorcycle spots\" : {\n",
        "        \"row1\": [\"M1\", \"M2\", \"M3\", \"M4\", \"M5\", \"M6\"],\n",
        "        \"row2\": [\"M7\", \"M8\", \"M9\", \"M10\", \"M11\", \"M12\"]\n",
        "},\n",
        "    \"compact spots\" : {\n",
        "        \"row1\" : [\"C1\", \"C2\", \"C3\", \"C4\", \"C5\", \"C6\"],\n",
        "        \"row2\" : [\"C7\", \"C8\", \"C9\", \"C10\", \"C11\", \"C12\"]\n",
        "},\n",
        "    \"large spots\": {\n",
        "        \"row1\" : [\"L1\", \"L2\", \"L3\", \"L4\", \"L5\", \"L6\"],\n",
        "        \"row2\" : [\"L7\", \"L8\", \"L9\", \"L10\", \"L11\", \"L12\"]\n",
        "}\n",
        "},\n",
        "\"Level-1\" : {\n",
        "     \"Motorcycle spots\" : {\n",
        "        \"row1\": [\"M1\", \"M2\", \"M3\", \"M4\", \"M5\", \"M6\"],\n",
        "        \"row2\": [\"M7\", \"M8\", \"M9\", \"M10\", \"M11\", \"M12\"]\n",
        "},\n",
        "    \"compact spots\" : {\n",
        "        \"row1\" : [\"C1\", \"C2\", \"C3\", \"C4\", \"C5\", \"C6\"],\n",
        "        \"row2\" : [\"C7\", \"C8\", \"C9\", \"C10\", \"C11\", \"C12\"]\n",
        "},\n",
        "    \"large spots\": {\n",
        "        \"row1\" : [\"L1\", \"L2\", \"L3\", \"L4\", \"L5\", \"L6\"],\n",
        "        \"row2\" : [\"L7\", \"L8\", \"L9\", \"L10\", \"L11\", \"L12\"]\n",
        "}\n",
        "},\n",
        "\"Level-2\": {\n",
        "     \"Motorcycle spots\" : {\n",
        "        \"row1\": [\"M1\", \"M2\", \"M3\", \"M4\", \"M5\", \"M6\"],\n",
        "        \"row2\": [\"M7\", \"M8\", \"M9\", \"M10\", \"M11\", \"M12\"]\n",
        "},\n",
        "    \"compact spots\" : {\n",
        "        \"row1\" : [\"C1\", \"C2\", \"C3\", \"C4\", \"C5\", \"C6\"],\n",
        "        \"row2\" : [\"C7\", \"C8\", \"C9\", \"C10\", \"C11\", \"C12\"]\n",
        "},\n",
        "    \"large spots\": {\n",
        "        \"row1\" : [\"L1\", \"L2\", \"L3\", \"L4\", \"L5\", \"L6\"],\n",
        "        \"row2\" : [\"L7\", \"L8\", \"L9\", \"L10\", \"L11\", \"L12\"]\n",
        "}\n",
        "},\n",
        "\"Level-3\": {\n",
        "     \"Motorcycle spots\" : {\n",
        "        \"row1\":[\"M1\", \"M2\", \"M3\", \"M4\", \"M5\", \"M6\"],\n",
        "        \"row2\":[\"M7\", \"M8\", \"M9\", \"M10\", \"M11\", \"M12\"]\n",
        "},\n",
        "    \"compact spots\" : {\n",
        "        \"row1\" : [\"C1\", \"C2\", \"C3\", \"C4\", \"C5\", \"C6\"],\n",
        "        \"row2\" : [\"C7\", \"C8\", \"C9\", \"C10\", \"C11\", \"C12\"]\n",
        "},\n",
        "    \"large spots\": {\n",
        "        \"row1\" : [\"L1\", \"L2\", \"L3\", \"L4\", \"L5\", \"L6\"],\n",
        "        \"row2\" : [\"L7\", \"L8\", \"L9\", \"L10\", \"L11\", \"L12\"]\n",
        "}\n",
        "}\n",
        "}"
      ],
      "execution_count": 1,
      "outputs": []
    },
    {
      "cell_type": "code",
      "metadata": {
        "id": "Argjf8hBD3Td",
        "outputId": "31bd4962-d319-4b42-ebec-9551f62ab49a",
        "colab": {
          "base_uri": "https://localhost:8080/"
        }
      },
      "source": [
        "levels = list(parking_slots.keys())\n",
        "parking_found = 0\n",
        "for level in levels:\n",
        "\n",
        "  #Look for a parking in Motorcycle spot\n",
        "  motorcycle_spots = list(parking_slots[level][\"Motorcycle spots\"].keys())\n",
        "  for row in motorcycle_spots:\n",
        "    if parking_slots[level][\"Motorcycle spots\"][row] == []:\n",
        "      print(\"No parking found\")\n",
        "    else:\n",
        "      print(\"Parking found\")\n",
        "      parking_found = 1\n",
        "      break;\n",
        "\n",
        "  #Check if parking found\n",
        "  if parking_found == 1:\n",
        "    break\n",
        "\n",
        "  #Look for a parking in compact spot \n",
        "  compact_spots = list(parking_slots[level][\"compact spots\"].keys())\n",
        "  for row in compact_spots:\n",
        "    if parking_slots[level][\"compact spots\"][row] == []:\n",
        "      print(\"No parking found\")\n",
        "    else:\n",
        "      print(\"Parking found\")\n",
        "      parking_found = 1\n",
        "      break;\n",
        "  if parking_found == 1:\n",
        "    break;"
      ],
      "execution_count": 11,
      "outputs": [
        {
          "output_type": "stream",
          "name": "stdout",
          "text": [
            "List is not empty\n"
          ]
        }
      ]
    }
  ]
}